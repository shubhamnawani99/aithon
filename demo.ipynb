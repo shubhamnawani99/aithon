{
 "cells": [
  {
   "cell_type": "markdown",
   "metadata": {},
   "source": [
    "# Twitter Emotion Recognition"
   ]
  },
  {
   "cell_type": "code",
   "execution_count": 41,
   "metadata": {
    "pycharm": {
     "is_executing": false
    }
   },
   "outputs": [],
   "source": [
    "import os;\n",
    "os.environ['KERAS_BACKEND'] = 'theano'\n",
    "\n",
    "import pandas as pd\n",
    "import preprocessor as p\n",
    "import json\n",
    "\n",
    "from emotion_predictor import EmotionPredictor"
   ]
  },
  {
   "cell_type": "code",
   "execution_count": 3,
   "metadata": {},
   "outputs": [],
   "source": [
    "# Pandas presentation options\n",
    "pd.options.display.max_colwidth = 150   # show whole tweet's content\n",
    "pd.options.display.width = 200          # don't break columns\n",
    "# pd.options.display.max_columns = 7      # maximal number of columns\n",
    "p.set_options(p.OPT.EMOJI, p.OPT.URL, p.OPT.RESERVED, p.OPT.HASHTAG, p.OPT.MENTION)"
   ]
  },
  {
   "cell_type": "code",
   "execution_count": 4,
   "metadata": {},
   "outputs": [],
   "source": [
    "# Predictor for Ekman's emotions in multiclass setting.\n",
    "model = EmotionPredictor(classification='ekman', setting='mc', use_unison_model=True)"
   ]
  },
  {
   "cell_type": "code",
   "execution_count": 60,
   "metadata": {},
   "outputs": [],
   "source": [
    "path = \"1.txt\"\n",
    "with open(path) as json_file: \n",
    "    data = json.load(json_file) "
   ]
  },
  {
   "cell_type": "code",
   "execution_count": 67,
   "metadata": {},
   "outputs": [
    {
     "name": "stdout",
     "output_type": "stream",
     "text": [
      "The total number of tweets to classify are: 17598\n"
     ]
    }
   ],
   "source": [
    "tweets = []\n",
    "for tweet in data:\n",
    "    tweets.append(p.clean(tweet['text']))\n",
    "print('The total number of tweets to classify are:',len(tweets))"
   ]
  },
  {
   "cell_type": "code",
   "execution_count": 72,
   "metadata": {},
   "outputs": [
    {
     "name": "stdout",
     "output_type": "stream",
     "text": [
      "1. Curve flattening? Kenya records 48 new virus cases, 176 recoveries via After we ATE CORONA MONEY, someone at the has been consulting with Darrel Huff (1954), \"How to lie with statistics\". Please just give us a break.\n",
      "\n",
      "2. Victoria and Melbourne Covid trend map: where coronavirus cases are rising or falling\n",
      "\n",
      "3. NSW and Sydney Covid trend map: where coronavirus cases are rising or falling\n",
      "\n",
      "4. ITS BAKE OFF DAY! Who else will be tuning in at 8pm? I recently read this really interesting article about how they were able to film this series during corona times, so I thought Id share it with you guys ahead of tonights episode:\n",
      "\n",
      "5. The Liberal party bots are out in force even though its not even a covid post. This is about trying to get justice for child sexual abuse victims and you faceless trolls come out with you corona virus conspiracies and what not. Shameful and gutless just like the LNP.\n",
      "\n",
      "6. What dumba** named it the Corona Virus (COVID-19)\n",
      "\n",
      "7. Victoria and Melbourne Covid trend map: where coronavirus cases are rising or falling\n",
      "\n",
      "8. New cases September 21 2020: 19 countries with 2000 or more new cases Source:\n",
      "\n",
      "9. According to the CDC out of the 200,000 deaths only 6% are 100% COVID related. They get paid for reporting it as a Corona Virus fatality.\n",
      "\n",
      "10. When people dont want to follow the rules, dont expect any help when you get it....i cant believe people still think its a hoax !!\n",
      "\n"
     ]
    }
   ],
   "source": [
    "i = 0\n",
    "for tweet in tweets[:5]:\n",
    "    i += 1\n",
    "    print(\"{}. {}\\n\".format(i, tweet))"
   ]
  },
  {
   "cell_type": "code",
   "execution_count": null,
   "metadata": {},
   "outputs": [],
   "source": [
    "predictions = model.predict_classes(tweets[:50])"
   ]
  },
  {
   "cell_type": "code",
   "execution_count": null,
   "metadata": {},
   "outputs": [],
   "source": [
    "predictions"
   ]
  },
  {
   "cell_type": "code",
   "execution_count": null,
   "metadata": {},
   "outputs": [],
   "source": [
    "probabilities = model.predict_probabilities(tweets)"
   ]
  },
  {
   "cell_type": "code",
   "execution_count": null,
   "metadata": {
    "pycharm": {
     "name": "#%%\n"
    }
   },
   "outputs": [],
   "source": [
    "probabilities\n"
   ]
  }
 ],
 "metadata": {
  "kernelspec": {
   "display_name": "Python 3",
   "language": "python",
   "name": "python3"
  },
  "language_info": {
   "codemirror_mode": {
    "name": "ipython",
    "version": 3
   },
   "file_extension": ".py",
   "mimetype": "text/x-python",
   "name": "python",
   "nbconvert_exporter": "python",
   "pygments_lexer": "ipython3",
   "version": "3.6.8"
  },
  "pycharm": {
   "stem_cell": {
    "cell_type": "raw",
    "metadata": {
     "collapsed": false
    },
    "source": []
   }
  }
 },
 "nbformat": 4,
 "nbformat_minor": 4
}
