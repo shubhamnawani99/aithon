{
  "nbformat": 4,
  "nbformat_minor": 0,
  "metadata": {
    "colab": {
      "name": "Level3.ipynb",
      "provenance": [],
      "collapsed_sections": [],
      "authorship_tag": "ABX9TyMWp/Kafiy06EnLvXAdzP2w",
      "include_colab_link": true
    },
    "kernelspec": {
      "name": "python3",
      "display_name": "Python 3"
    }
  },
  "cells": [
    {
      "cell_type": "markdown",
      "metadata": {
        "id": "view-in-github",
        "colab_type": "text"
      },
      "source": [
        "<a href=\"https://colab.research.google.com/github/shubhamnawani99/aithon/blob/main/Level3.ipynb\" target=\"_parent\"><img src=\"https://colab.research.google.com/assets/colab-badge.svg\" alt=\"Open In Colab\"/></a>"
      ]
    },
    {
      "cell_type": "code",
      "metadata": {
        "id": "6DAU9-Wy0Hi-",
        "outputId": "7c3aa79f-d7b1-4ffb-817b-3c9c4a7c4b40",
        "colab": {
          "base_uri": "https://localhost:8080/",
          "height": 84
        }
      },
      "source": [
        "# Clone the entire repo.\n",
        "!git clone -l -s https://github.com/shubhamnawani99/aithon.git cloned-repo\n",
        "%cd cloned-repo\n",
        "!ls"
      ],
      "execution_count": 2,
      "outputs": [
        {
          "output_type": "stream",
          "text": [
            "fatal: destination path 'cloned-repo' already exists and is not an empty directory.\n",
            "/content/cloned-repo\n",
            "demo.ipynb\t      LICENSE  README.md\t twitter_dump.txt\n",
            "emotion_predictor.py  models   requirements.txt\n"
          ],
          "name": "stdout"
        }
      ]
    },
    {
      "cell_type": "code",
      "metadata": {
        "id": "SiFWu1YVoCFl"
      },
      "source": [
        "# requirements for the project\n",
        "!pip install -r requirements.txt"
      ],
      "execution_count": null,
      "outputs": []
    },
    {
      "cell_type": "code",
      "metadata": {
        "id": "WocvfWQIp4Dl"
      },
      "source": [
        "# import the necessary libraries\n",
        "import os;\n",
        "os.environ['KERAS_BACKEND'] = 'theano'\n",
        "\n",
        "import pandas as pd\n",
        "import preprocessor as p\n",
        "import json\n",
        "import matplotlib.pyplot as plt\n",
        "from emotion_predictor import EmotionPredictor"
      ],
      "execution_count": 30,
      "outputs": []
    },
    {
      "cell_type": "code",
      "metadata": {
        "id": "mxPicgS80gWx"
      },
      "source": [
        "# Pandas presentation options\n",
        "pd.options.display.max_colwidth = 150   # show whole tweet's content\n",
        "pd.options.display.width = 200          # don't break columns\n",
        "# pd.options.display.max_columns = 7      # maximal number of columns\n",
        "p.set_options(p.OPT.EMOJI, p.OPT.URL, p.OPT.RESERVED, p.OPT.HASHTAG, p.OPT.MENTION)"
      ],
      "execution_count": 4,
      "outputs": []
    },
    {
      "cell_type": "code",
      "metadata": {
        "id": "N2zsZQ5k0iYG",
        "outputId": "69b3df9e-6de6-4fdf-c21f-32ebfd93f58a",
        "colab": {
          "base_uri": "https://localhost:8080/",
          "height": 54
        }
      },
      "source": [
        "# Predictor for Ekman's emotions in multiclass setting.\n",
        "model = EmotionPredictor(classification='ekman', setting='mc', use_unison_model=False)"
      ],
      "execution_count": 5,
      "outputs": [
        {
          "output_type": "stream",
          "text": [
            "WARNING (theano.tensor.blas): We did not find a dynamic library in the library_dir of the library we use for blas. If you use ATLAS, make sure to compile it with dynamics library.\n"
          ],
          "name": "stderr"
        }
      ]
    },
    {
      "cell_type": "code",
      "metadata": {
        "id": "5Ojg0TbM00Xv"
      },
      "source": [
        "# open the json file\n",
        "path = \"twitter_dump.txt\"\n",
        "with open(path) as json_file: \n",
        "    data = json.load(json_file) "
      ],
      "execution_count": 6,
      "outputs": []
    },
    {
      "cell_type": "code",
      "metadata": {
        "id": "BKYq_y0g03A1",
        "outputId": "c0492f01-c5d5-4df7-cc79-ba469ec7cef1",
        "colab": {
          "base_uri": "https://localhost:8080/",
          "height": 34
        }
      },
      "source": [
        "# cleaning the tweets, removing all the Mentions, URLs, Hashtags, Emojis and Reserved Words\n",
        "tweets = []\n",
        "for tweet in data:\n",
        "    tweets.append(p.clean(tweet['text']))\n",
        "print('The total number of tweets to classify are:',len(tweets))"
      ],
      "execution_count": 7,
      "outputs": [
        {
          "output_type": "stream",
          "text": [
            "The total number of tweets to classify are: 17598\n"
          ],
          "name": "stdout"
        }
      ]
    },
    {
      "cell_type": "code",
      "metadata": {
        "id": "gds55jOy06wo",
        "outputId": "109516ce-1b4e-40d1-c593-d0e1a4857ab1",
        "colab": {
          "base_uri": "https://localhost:8080/",
          "height": 185
        }
      },
      "source": [
        "# printing the first 10 tweets\n",
        "i = 0\n",
        "for tweet in tweets[:10]:\n",
        "    i += 1\n",
        "    print(\"{}. {}...\".format(i, tweet[:100]))"
      ],
      "execution_count": 8,
      "outputs": [
        {
          "output_type": "stream",
          "text": [
            "1. Curve flattening? Kenya records 48 new virus cases, 176 recoveries via After we ATE CORONA MONEY, so...\n",
            "2. Victoria and Melbourne Covid trend map: where coronavirus cases are rising or falling...\n",
            "3. NSW and Sydney Covid trend map: where coronavirus cases are rising or falling...\n",
            "4. ITS BAKE OFF DAY! Who else will be tuning in at 8pm? I recently read this really interesting article...\n",
            "5. The Liberal party bots are out in force even though its not even a covid post. This is about trying ...\n",
            "6. What dumba** named it the Corona Virus (COVID-19)...\n",
            "7. Victoria and Melbourne Covid trend map: where coronavirus cases are rising or falling...\n",
            "8. New cases September 21 2020: 19 countries with 2000 or more new cases Source:...\n",
            "9. According to the CDC out of the 200,000 deaths only 6% are 100% COVID related. They get paid for rep...\n",
            "10. When people dont want to follow the rules, dont expect any help when you get it....i cant believe pe...\n"
          ],
          "name": "stdout"
        }
      ]
    },
    {
      "cell_type": "code",
      "metadata": {
        "id": "ptE6aa350_pt"
      },
      "source": [
        "# predicting the tweets\n",
        "predictions = model.predict_classes(tweets)"
      ],
      "execution_count": 23,
      "outputs": []
    },
    {
      "cell_type": "code",
      "metadata": {
        "id": "eD7_ZF2h1A6V",
        "outputId": "13f8983e-1fd5-4163-c4b5-e0da687010d1",
        "colab": {
          "base_uri": "https://localhost:8080/",
          "height": 195
        }
      },
      "source": [
        "# showing the emotion prediction for the input tweets\n",
        "predictions.head()"
      ],
      "execution_count": 20,
      "outputs": [
        {
          "output_type": "execute_result",
          "data": {
            "text/html": [
              "<div>\n",
              "<style scoped>\n",
              "    .dataframe tbody tr th:only-of-type {\n",
              "        vertical-align: middle;\n",
              "    }\n",
              "\n",
              "    .dataframe tbody tr th {\n",
              "        vertical-align: top;\n",
              "    }\n",
              "\n",
              "    .dataframe thead th {\n",
              "        text-align: right;\n",
              "    }\n",
              "</style>\n",
              "<table border=\"1\" class=\"dataframe\">\n",
              "  <thead>\n",
              "    <tr style=\"text-align: right;\">\n",
              "      <th></th>\n",
              "      <th>Tweet</th>\n",
              "      <th>Emotion</th>\n",
              "    </tr>\n",
              "  </thead>\n",
              "  <tbody>\n",
              "    <tr>\n",
              "      <th>0</th>\n",
              "      <td>Curve flattening? Kenya records 48 new virus cases, 176 recoveries via After we ATE CORONA MONEY, someone at the has been consulting with Darrel H...</td>\n",
              "      <td>Joy</td>\n",
              "    </tr>\n",
              "    <tr>\n",
              "      <th>1</th>\n",
              "      <td>Victoria and Melbourne Covid trend map: where coronavirus cases are rising or falling</td>\n",
              "      <td>Joy</td>\n",
              "    </tr>\n",
              "    <tr>\n",
              "      <th>2</th>\n",
              "      <td>NSW and Sydney Covid trend map: where coronavirus cases are rising or falling</td>\n",
              "      <td>Joy</td>\n",
              "    </tr>\n",
              "    <tr>\n",
              "      <th>3</th>\n",
              "      <td>ITS BAKE OFF DAY! Who else will be tuning in at 8pm? I recently read this really interesting article about how they were able to film this series ...</td>\n",
              "      <td>Surprise</td>\n",
              "    </tr>\n",
              "    <tr>\n",
              "      <th>4</th>\n",
              "      <td>The Liberal party bots are out in force even though its not even a covid post. This is about trying to get justice for child sexual abuse victims ...</td>\n",
              "      <td>Disgust</td>\n",
              "    </tr>\n",
              "  </tbody>\n",
              "</table>\n",
              "</div>"
            ],
            "text/plain": [
              "                                                                                                                                                   Tweet   Emotion\n",
              "0  Curve flattening? Kenya records 48 new virus cases, 176 recoveries via After we ATE CORONA MONEY, someone at the has been consulting with Darrel H...       Joy\n",
              "1                                                                  Victoria and Melbourne Covid trend map: where coronavirus cases are rising or falling       Joy\n",
              "2                                                                          NSW and Sydney Covid trend map: where coronavirus cases are rising or falling       Joy\n",
              "3  ITS BAKE OFF DAY! Who else will be tuning in at 8pm? I recently read this really interesting article about how they were able to film this series ...  Surprise\n",
              "4  The Liberal party bots are out in force even though its not even a covid post. This is about trying to get justice for child sexual abuse victims ...   Disgust"
            ]
          },
          "metadata": {
            "tags": []
          },
          "execution_count": 20
        }
      ]
    },
    {
      "cell_type": "code",
      "metadata": {
        "id": "ogEGwmYk1Qvt"
      },
      "source": [
        "# counting the frequncy of emotions in the file\n",
        "hist = {}\n",
        "emotions = predictions.T.loc[\"Emotion\"]\n",
        "for emotion in emotions:\n",
        "  hist[emotion] = hist.get(emotion, 0) + 1"
      ],
      "execution_count": 27,
      "outputs": []
    },
    {
      "cell_type": "code",
      "metadata": {
        "id": "OvnM8ybU4EqC",
        "outputId": "b59d8184-edbc-4c48-8c3e-acde7d36d134",
        "colab": {
          "base_uri": "https://localhost:8080/",
          "height": 34
        }
      },
      "source": [
        "# showing the frequency of emotions\n",
        "print(hist)"
      ],
      "execution_count": 28,
      "outputs": [
        {
          "output_type": "stream",
          "text": [
            "{'Joy': 7301, 'Surprise': 4184, 'Disgust': 595, 'Anger': 831, 'Fear': 2703, 'Sadness': 1984}\n"
          ],
          "name": "stdout"
        }
      ]
    },
    {
      "cell_type": "code",
      "metadata": {
        "id": "6wd2UkUG9xOi",
        "outputId": "24cbe016-9056-4c2c-a562-c851baa6d36b",
        "colab": {
          "base_uri": "https://localhost:8080/",
          "height": 282
        }
      },
      "source": [
        "# plotting the frequecy of emotions\n",
        "plt.bar(hist.keys(), hist.values())"
      ],
      "execution_count": 37,
      "outputs": [
        {
          "output_type": "execute_result",
          "data": {
            "text/plain": [
              "<BarContainer object of 6 artists>"
            ]
          },
          "metadata": {
            "tags": []
          },
          "execution_count": 37
        },
        {
          "output_type": "display_data",
          "data": {
            "image/png": "[encoded data removed]",
            "text/plain": [
              "<Figure size 432x288 with 1 Axes>"
            ]
          },
          "metadata": {
            "tags": [],
            "needs_background": "light"
          }
        }
      ]
    }
  ]
}